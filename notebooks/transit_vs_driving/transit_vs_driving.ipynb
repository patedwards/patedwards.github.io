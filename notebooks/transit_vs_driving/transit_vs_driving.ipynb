{
 "cells": [
  {
   "cell_type": "markdown",
   "metadata": {},
   "source": [
    "### Step 1: get the data"
   ]
  },
  {
   "cell_type": "markdown",
   "metadata": {},
   "source": [
    "Need to do the following:\n",
    "* find the data source I'll use (Here vs Google Maps vs Mapbox)\n",
    "* generate random points across both cities for trip start and end points\n",
    "* generate the transit and driving trips and store them in a geojson file locally. Each trip needs to contain the start and end points, the path, the start time and end time."
   ]
  },
  {
   "cell_type": "code",
   "execution_count": 1,
   "metadata": {},
   "outputs": [],
   "source": [
    "import os\n",
    "HERE_API_KEY = \"TDwv81Ze1NKUD2GFnjJa0jGi0nSwdUUY2WANH6kAMKk\"#os.environ[\"HERE_API_KEY\"]"
   ]
  },
  {
   "cell_type": "code",
   "execution_count": 2,
   "metadata": {},
   "outputs": [],
   "source": [
    "import requests"
   ]
  },
  {
   "cell_type": "code",
   "execution_count": 5,
   "metadata": {},
   "outputs": [],
   "source": [
    "response = requests.get(f\"https://transit.router.hereapi.com/v8/routes?apiKey={HERE_API_KEY}&origin=41.79457,12.25473&destination=41.90096,12.50243\")"
   ]
  },
  {
   "cell_type": "code",
   "execution_count": 8,
   "metadata": {},
   "outputs": [
    {
     "data": {
      "text/plain": [
       "b'{\"routes\":[{\"id\":\"R007993-C0\",\"sections\":[{\"id\":\"R007993-C0-S0\",\"type\":\"pedestrian\",\"departure\":{\"time\":\"2020-10-30T18:32:00+01:00\",\"place\":{\"type\":\"place\",\"location\":{\"lat\":41.79457,\"lng\":12.25473}}},\"arrival\":{\"time\":\"2020-10-30T18:38:00+01:00\",\"place\":{\"name\":\"Fiumicino Aeroporto\",\"type\":\"station\",\"location\":{\"lat\":41.793466,\"lng\":12.251997},\"id\":\"415713377\"}},\"transport\":{\"mode\":\"pedestrian\"}},{\"id\":\"R007993-C0-S1\",\"type\":\"transit\",\"departure\":{\"time\":\"2020-10-30T18:38:00+01:00\",\"place\":{\"name\":\"Fiumicino Aeroporto\",\"type\":\"station\",\"location\":{\"lat\":41.793466,\"lng\":12.251997},\"id\":\"415713377\"}},\"arrival\":{\"time\":\"2020-10-30T19:10:00+01:00\",\"place\":{\"name\":\"Roma Termini\",\"type\":\"station\",\"location\":{\"lat\":41.90054,\"lng\":12.502168},\"id\":\"415712984\"}},\"transport\":{\"mode\":\"regionalTrain\",\"name\":\"LE\",\"category\":\"Regional Train\",\"color\":\"#4C8DC1\",\"textColor\":\"#000000\",\"headsign\":\"Roma Termini\"},\"agency\":{\"id\":\"aDmtre00\",\"name\":\"Trenitalia\",\"website\":\"http://www.trenitalia.com/\"},\"attributions\":[{\"id\":\"R007993-C0-S1-link-0\",\"href\":\"http://creativecommons.org/licenses/by/3.0/it/\",\"text\":\"Some line names used in this product or service were edited to align with official transportation maps.\",\"type\":\"disclaimer\"}]},{\"id\":\"R007993-C0-S2\",\"type\":\"pedestrian\",\"departure\":{\"time\":\"2020-10-30T19:10:00+01:00\",\"place\":{\"name\":\"Roma Termini\",\"type\":\"station\",\"location\":{\"lat\":41.90054,\"lng\":12.502168},\"id\":\"415712984\"}},\"arrival\":{\"time\":\"2020-10-30T19:11:00+01:00\",\"place\":{\"type\":\"place\",\"location\":{\"lat\":41.90096,\"lng\":12.50243}}},\"transport\":{\"mode\":\"pedestrian\"}}]}]}\\n'"
      ]
     },
     "execution_count": 8,
     "metadata": {},
     "output_type": "execute_result"
    }
   ],
   "source": [
    "response.content"
   ]
  },
  {
   "cell_type": "code",
   "execution_count": 3,
   "metadata": {},
   "outputs": [
    {
     "name": "stderr",
     "output_type": "stream",
     "text": [
      "/Users/patrick/.virtualenvs/jupyter/lib/python3.7/site-packages/pandas/compat/__init__.py:120: UserWarning: Could not import the lzma module. Your installed Python is incomplete. Attempting to use lzma compression will result in a RuntimeError.\n",
      "  warnings.warn(msg)\n"
     ]
    }
   ],
   "source": [
    "import osmnx as ox\n",
    "import numpy as np\n",
    "import datetime"
   ]
  },
  {
   "cell_type": "code",
   "execution_count": 4,
   "metadata": {},
   "outputs": [],
   "source": [
    "gdf_seattle_buildings = ox.geometries_from_place('Seattle, Washington, USA', {'building': True})"
   ]
  },
  {
   "cell_type": "code",
   "execution_count": null,
   "metadata": {},
   "outputs": [],
   "source": [
    "gdf_vancouver_buildings = ox.geometries_from_place('Vancouver, British Columbia, Canada', {'building': True})"
   ]
  },
  {
   "cell_type": "code",
   "execution_count": 96,
   "metadata": {},
   "outputs": [],
   "source": [
    "# https://developer.here.com/documentation/public-transit/dev_guide/index.html"
   ]
  },
  {
   "cell_type": "code",
   "execution_count": 111,
   "metadata": {},
   "outputs": [
    {
     "data": {
      "text/plain": [
       "'2020-10-30T09:15:00-07:00'"
      ]
     },
     "execution_count": 111,
     "metadata": {},
     "output_type": "execute_result"
    }
   ],
   "source": [
    "datetime.datetime.utcnow().isoformat()\n",
    "\n",
    "def format_time(year, month, day, hour, minute):\n",
    "    return datetime.datetime(year, month, day, hour, minute).isoformat() + \"-07:00\"\n",
    "format_time(2020, 10, 30, 9, 15)"
   ]
  },
  {
   "cell_type": "code",
   "execution_count": 40,
   "metadata": {},
   "outputs": [],
   "source": [
    "import geopy\n",
    "import json\n",
    "\n",
    "def transit_trip(start_geom, end_geom, departure_time):\n",
    "    origin_lat_lon = f\"{start_geom.coords[0][1]},{start_geom.coords[0][0]}\"\n",
    "    destination_lat_lon = f\"{end_geom.coords[0][1]},{end_geom.coords[0][0]}\"\n",
    "    url = f\"https://transit.router.hereapi.com/v8/routes?departureTime={departure_time}&apiKey={HERE_API_KEY}&origin={origin_lat_lon}&destination={destination_lat_lon}&return=polyline\"\n",
    "    response = requests.get(url)\n",
    "    trip = {'transit_response': json.loads(response.content), 'transit_url': url}\n",
    "    return trip\n",
    "\n",
    "def car_trip(start_geom, end_geom, departure_time):\n",
    "    origin_lat_lon = f\"{start_geom.coords[0][1]},{start_geom.coords[0][0]}\"\n",
    "    destination_lat_lon = f\"{end_geom.coords[0][1]},{end_geom.coords[0][0]}\"\n",
    "    url = f\"https://router.hereapi.com/v8/routes?transportMode=car&departureTime={departure_time}&apiKey={HERE_API_KEY}&origin={origin_lat_lon}&destination={destination_lat_lon}&return=polyline\"\n",
    "    response = requests.get(url)\n",
    "    trip = {'car_response': json.loads(response.content), 'car_url': url}\n",
    "    return trip\n",
    "\n",
    "\n",
    "def random_start_end(gdf):\n",
    "    N_points = len(gdf)\n",
    "    start_idx, end_idx = np.random.randint(0, N_points, 2)\n",
    "    start_geom = gdf.iloc[start_idx].geometry\n",
    "    end_geom = gdf.iloc[end_idx].geometry\n",
    "    # reject anything less than 1500m https://www.ncbi.nlm.nih.gov/pmc/articles/PMC3377942/\n",
    "    if geopy.distance.geodesic(start_geom.coords[0][::-1], end_geom.coords[0][::-1]).meters < 1500:\n",
    "        return random_start_end(gdf)\n",
    "    return start_geom, end_geom\n",
    "    \n",
    "    \n",
    "def run_experiment(start_geom, end_geom, departure_time):\n",
    "    parameters = {\n",
    "        'start': start_geom, \n",
    "        'end': end_geom, \n",
    "        'departure_time': departure_time\n",
    "    }\n",
    "    results = {\n",
    "        **car_trip(start_geom, end_geom, departure_time),\n",
    "        **transit_trip(start_geom, end_geom, departure_time)\n",
    "    }\n",
    "    return {**parameters, **results}"
   ]
  },
  {
   "cell_type": "code",
   "execution_count": 57,
   "metadata": {
    "scrolled": true
   },
   "outputs": [
    {
     "data": {
      "text/plain": [
       "10"
      ]
     },
     "execution_count": 57,
     "metadata": {},
     "output_type": "execute_result"
    }
   ],
   "source": [
    "# 7.30 and 9, 5 and 6.30\n",
    "# do 7.30, 7.35, 8, 8.05, 8.30, 8.35, 9, 9.05\n",
    "\n",
    "times = [\n",
    "    f'2020-10-28T{h:02d}:{m:02d}:00-07:00' for (h, m) in [(8, 0), (8, 5), (8, 30), (8, 35), (17, 0), (17, 5), (17, 30), (17,35), (18, 0), (18, 5)]\n",
    "]\n",
    "len(times)"
   ]
  },
  {
   "cell_type": "code",
   "execution_count": 58,
   "metadata": {},
   "outputs": [
    {
     "data": {
      "text/plain": [
       "['2020-10-28T08:00:00-07:00',\n",
       " '2020-10-28T08:05:00-07:00',\n",
       " '2020-10-28T08:30:00-07:00',\n",
       " '2020-10-28T08:35:00-07:00',\n",
       " '2020-10-28T17:00:00-07:00',\n",
       " '2020-10-28T17:05:00-07:00',\n",
       " '2020-10-28T17:30:00-07:00',\n",
       " '2020-10-28T17:35:00-07:00',\n",
       " '2020-10-28T18:00:00-07:00',\n",
       " '2020-10-28T18:05:00-07:00']"
      ]
     },
     "execution_count": 58,
     "metadata": {},
     "output_type": "execute_result"
    }
   ],
   "source": [
    "times"
   ]
  },
  {
   "cell_type": "code",
   "execution_count": 11,
   "metadata": {},
   "outputs": [
    {
     "name": "stderr",
     "output_type": "stream",
     "text": [
      "/Users/patrick/.virtualenvs/jupyter/lib/python3.7/site-packages/ipykernel/ipkernel.py:287: DeprecationWarning: `should_run_async` will not call `transform_cell` automatically in the future. Please pass the result to `transformed_cell` argument and any exception that happen during thetransform in `preprocessing_exc_tuple` in IPython 7.17 and above.\n",
      "  and should_run_async(code)\n"
     ]
    }
   ],
   "source": [
    "gdf_nodes = gdf_seattle_buildings.loc[gdf_seattle_buildings.element_type == \"node\"]"
   ]
  },
  {
   "cell_type": "code",
   "execution_count": 18,
   "metadata": {},
   "outputs": [
    {
     "name": "stderr",
     "output_type": "stream",
     "text": [
      "/Users/patrick/.virtualenvs/jupyter/lib/python3.7/site-packages/ipykernel/ipkernel.py:287: DeprecationWarning: `should_run_async` will not call `transform_cell` automatically in the future. Please pass the result to `transformed_cell` argument and any exception that happen during thetransform in `preprocessing_exc_tuple` in IPython 7.17 and above.\n",
      "  and should_run_async(code)\n"
     ]
    },
    {
     "data": {
      "text/plain": [
       "Distance(0.0)"
      ]
     },
     "execution_count": 18,
     "metadata": {},
     "output_type": "execute_result"
    }
   ],
   "source": [
    "import geopy\n",
    "\n",
    "geopy.distance.geodesic()"
   ]
  },
  {
   "cell_type": "code",
   "execution_count": 20,
   "metadata": {},
   "outputs": [],
   "source": [
    "location_pairs = [random_start_end(gdf_nodes) for i in range(10)]"
   ]
  },
  {
   "cell_type": "code",
   "execution_count": 39,
   "metadata": {},
   "outputs": [
    {
     "ename": "TypeError",
     "evalue": "'dict' object is not callable",
     "output_type": "error",
     "traceback": [
      "\u001b[0;31m---------------------------------------------------------------------------\u001b[0m",
      "\u001b[0;31mTypeError\u001b[0m                                 Traceback (most recent call last)",
      "\u001b[0;32m<ipython-input-39-d494b015de17>\u001b[0m in \u001b[0;36m<module>\u001b[0;34m\u001b[0m\n\u001b[0;32m----> 1\u001b[0;31m \u001b[0mexperiments\u001b[0m\u001b[0;34m.\u001b[0m\u001b[0mappend\u001b[0m\u001b[0;34m(\u001b[0m\u001b[0mexperiment\u001b[0m\u001b[0;34m(\u001b[0m\u001b[0mstart_geom\u001b[0m\u001b[0;34m,\u001b[0m \u001b[0mend_geom\u001b[0m\u001b[0;34m,\u001b[0m \u001b[0mdeparture_time\u001b[0m\u001b[0;34m)\u001b[0m\u001b[0;34m)\u001b[0m\u001b[0;34m\u001b[0m\u001b[0;34m\u001b[0m\u001b[0m\n\u001b[0m",
      "\u001b[0;31mTypeError\u001b[0m: 'dict' object is not callable"
     ]
    }
   ],
   "source": [
    "experiments.append(experiment(start_geom, end_geom, departure_time))"
   ]
  },
  {
   "cell_type": "code",
   "execution_count": 61,
   "metadata": {},
   "outputs": [],
   "source": [
    "experiments = []\n",
    "errors = []\n",
    "for start_geom, end_geom in location_pairs:\n",
    "    for departure_time in times:\n",
    "        try:\n",
    "            experiments.append(run_experiment(start_geom, end_geom, departure_time))\n",
    "        except Exception as exception:\n",
    "            errors.append(exception)\n"
   ]
  },
  {
   "cell_type": "code",
   "execution_count": 62,
   "metadata": {},
   "outputs": [],
   "source": [
    "import pickle "
   ]
  },
  {
   "cell_type": "code",
   "execution_count": 63,
   "metadata": {},
   "outputs": [],
   "source": [
    "with open(\"data/progress_capture_raw.pckl\", \"wb\") as fp:\n",
    "    pickle.dump(experiments, fp)"
   ]
  },
  {
   "cell_type": "code",
   "execution_count": 64,
   "metadata": {},
   "outputs": [],
   "source": [
    "with open(\"data/progress_capture_raw.pckl\", \"rb\") as fp:\n",
    "    experiments = pickle.load(fp)"
   ]
  },
  {
   "cell_type": "code",
   "execution_count": 65,
   "metadata": {},
   "outputs": [],
   "source": [
    "experiment = experiments[0]\n"
   ]
  },
  {
   "cell_type": "code",
   "execution_count": 69,
   "metadata": {},
   "outputs": [
    {
     "name": "stderr",
     "output_type": "stream",
     "text": [
      "/Users/patrick/.virtualenvs/jupyter/lib/python3.7/site-packages/ipykernel/ipkernel.py:287: DeprecationWarning: `should_run_async` will not call `transform_cell` automatically in the future. Please pass the result to `transformed_cell` argument and any exception that happen during thetransform in `preprocessing_exc_tuple` in IPython 7.17 and above.\n",
      "  and should_run_async(code)\n"
     ]
    }
   ],
   "source": [
    "departure_time = datetime.datetime.fromisoformat(experiment['departure_time'])\n",
    "transit_arrival_time = datetime.datetime.fromisoformat(experiment[\"transit_response\"][\"routes\"][0]['sections'][-1][\"arrival\"][\"time\"])\n",
    "car_arrival_time = datetime.datetime.fromisoformat(experiment[\"car_response\"][\"routes\"][0]['sections'][-1][\"arrival\"][\"time\"])\n",
    "diff = transit_arrival_time - car_arrival_time \n",
    "ratio_transit_to_car = (transit_arrival_time - departure_time)/(car_arrival_time - departure_time)"
   ]
  },
  {
   "cell_type": "code",
   "execution_count": 80,
   "metadata": {},
   "outputs": [
    {
     "data": {
      "text/plain": [
       "'BGmur46Cn7vppHuhBMTsvCoGAoBAoLUsiBUsJT8GT0K3DwCnBsJ_E0P3IgKrEgK7BwMA0oBA4DA03BAsOAgKAkITkInBoLjDsTzF0tBvMoanGkS_EwM_E4IjD4I3D0FjD8BnBgKzF4NjI0KvHgF3DsEjD4IvH4I_JwHnL8G7L4IrO0F_JwCrEkD_EsJzP4D7GkI7LgF7GoB7BoGvHwHnG4D7BgFvC4DnBsEnB4DA4NAsiBU4cU4SAwHA4NU0jBUoVAofUsdUoGA8LU8GAsTAsJA0UUoQU8G8BoG8BgZsJsTrT4IrJ8L7LoL7LU_iBAnVAvWAnfArOAjhBAvbUrYUjSAzFAjcUrdA3mBA3XArYA_TA_JA7QA_OA7VA3IArJAnVAnGTzeAnLUrOA7LAnkBA3DA72CAzPTvqBA3SAjXAvWAjXA3mBU3wBA7GU3mBU_OA7aAztBU7kBU3IAvHAzKA7BAnGTnL0PrOsOjNsErE0K_J8kBriBwHnGkX7V0UrT4X7VgUjS8QzPgUjS0FzFoa3X8QzPgKrJs2BrxB8VnVwH3I0FnG4DnG8B_E8B7GkD7L8B7G8BzF8B_EkD7GkDzF4S7f4SvgBoGnLkSrdwHvM8G7L4D7GkD7G4D_J4DzKkD7G4DvHoGnLsE7GoQvb8BjDwC_EouBjuCgPzZwMnVoQvbwCrEkD_EwCrE4c3wBoQjcoLzUwRvgBkDnGwC_E0KvWoG7LoG7LkI_OsYzoBgPzZsOrYgK_OgFjIoB7BkDnG8BjDsOrYoBvC0FvH4DjD8B7BgFnB0FwCwCoBwC8BwCwCgF0F0FwH8B8BwCkDkIgKkNwR4IoL8BwC4N8QsE0FgFjI8pBjpCokBz8BkNvWsdrxBgK3SsJjS4Sze8L3SgFoGsE8BkhBUA4DAwgBAouBjgBR'"
      ]
     },
     "execution_count": 80,
     "metadata": {},
     "output_type": "execute_result"
    }
   ],
   "source": [
    "experiment['car_response']['routes'][0]['sections'][0]['polyline']"
   ]
  },
  {
   "cell_type": "code",
   "execution_count": 81,
   "metadata": {},
   "outputs": [
    {
     "name": "stderr",
     "output_type": "stream",
     "text": [
      "/Users/patrick/.virtualenvs/jupyter/lib/python3.7/site-packages/ipykernel/ipkernel.py:287: DeprecationWarning: `should_run_async` will not call `transform_cell` automatically in the future. Please pass the result to `transformed_cell` argument and any exception that happen during thetransform in `preprocessing_exc_tuple` in IPython 7.17 and above.\n",
      "  and should_run_async(code)\n"
     ]
    }
   ],
   "source": [
    "import polyline"
   ]
  },
  {
   "cell_type": "code",
   "execution_count": 89,
   "metadata": {
    "collapsed": true
   },
   "outputs": [
    {
     "name": "stderr",
     "output_type": "stream",
     "text": [
      "/Users/patrick/.virtualenvs/jupyter/lib/python3.7/site-packages/ipykernel/ipkernel.py:287: DeprecationWarning: `should_run_async` will not call `transform_cell` automatically in the future. Please pass the result to `transformed_cell` argument and any exception that happen during thetransform in `preprocessing_exc_tuple` in IPython 7.17 and above.\n",
      "  and should_run_async(code)\n"
     ]
    },
    {
     "data": {
      "text/plain": [
       "[(47.584995, -122.314676),\n",
       " (47.58553, -122.31467),\n",
       " (47.58552, -122.3134),\n",
       " (47.58562, -122.3134),\n",
       " (47.58564, -122.3134),\n",
       " (47.58582, -122.31339),\n",
       " (47.58637, -122.31338),\n",
       " (47.58652, -122.31339),\n",
       " (47.58663, -122.3134),\n",
       " (47.5868, -122.31346),\n",
       " (47.58684, -122.31348),\n",
       " (47.58699, -122.31356),\n",
       " (47.58724, -122.3137),\n",
       " (47.5874, -122.31377),\n",
       " (47.58756, -122.3138),\n",
       " (47.58776, -122.3138),\n",
       " (47.58841, -122.3138),\n",
       " (47.58847, -122.3138),\n",
       " (47.58936, -122.3138),\n",
       " (47.58959, -122.3138),\n",
       " (47.58975, -122.3138),\n",
       " (47.58988, -122.31381),\n",
       " (47.59001, -122.31383),\n",
       " (47.59019, -122.31388),\n",
       " (47.5905, -122.31397),\n",
       " (47.59123, -122.31417),\n",
       " (47.59165, -122.31427),\n",
       " (47.59194, -122.31435),\n",
       " (47.59214, -122.31443),\n",
       " (47.59228, -122.31448),\n",
       " (47.59242, -122.31454),\n",
       " (47.59251, -122.31459),\n",
       " (47.59254, -122.31461),\n",
       " (47.5927, -122.3147),\n",
       " (47.59292, -122.31483),\n",
       " (47.59309, -122.31495),\n",
       " (47.59317, -122.31501),\n",
       " (47.59324, -122.31506),\n",
       " (47.59338, -122.31518),\n",
       " (47.59352, -122.31534),\n",
       " (47.59364, -122.31552),\n",
       " (47.59375, -122.31571),\n",
       " (47.59389, -122.31594),\n",
       " (47.59398, -122.3161),\n",
       " (47.59402, -122.31617),\n",
       " (47.59407, -122.31625),\n",
       " (47.59422, -122.3165),\n",
       " (47.59428, -122.31661),\n",
       " (47.59441, -122.3168),\n",
       " (47.59449, -122.31691),\n",
       " (47.59451, -122.31694),\n",
       " (47.59461, -122.31706),\n",
       " (47.59473, -122.31716),\n",
       " (47.59479, -122.31719),\n",
       " (47.59487, -122.31723),\n",
       " (47.59493, -122.31725),\n",
       " (47.595, -122.31727),\n",
       " (47.59506, -122.31727),\n",
       " (47.59528, -122.31727),\n",
       " (47.59583, -122.31726),\n",
       " (47.59629, -122.31725),\n",
       " (47.59659, -122.31725),\n",
       " (47.59671, -122.31725),\n",
       " (47.59693, -122.31724),\n",
       " (47.5975, -122.31723),\n",
       " (47.59784, -122.31723),\n",
       " (47.59834, -122.31722),\n",
       " (47.59881, -122.31721),\n",
       " (47.59891, -122.31721),\n",
       " (47.5991, -122.3172),\n",
       " (47.59921, -122.3172),\n",
       " (47.59952, -122.3172),\n",
       " (47.59967, -122.3172),\n",
       " (47.6, -122.31719),\n",
       " (47.60026, -122.31718),\n",
       " (47.60037, -122.31715),\n",
       " (47.60047, -122.31712),\n",
       " (47.60087, -122.31697),\n",
       " (47.60118, -122.31728),\n",
       " (47.60132, -122.31743),\n",
       " (47.60151, -122.31762),\n",
       " (47.60169, -122.31781),\n",
       " (47.6017, -122.31837),\n",
       " (47.6017, -122.31871),\n",
       " (47.6017, -122.31907),\n",
       " (47.6017, -122.31957),\n",
       " (47.6017, -122.3198),\n",
       " (47.6017, -122.32033),\n",
       " (47.6017, -122.32077),\n",
       " (47.60171, -122.32116),\n",
       " (47.60172, -122.32145),\n",
       " (47.60172, -122.32154),\n",
       " (47.60172, -122.32199),\n",
       " (47.60173, -122.32246),\n",
       " (47.60173, -122.32308),\n",
       " (47.60173, -122.32346),\n",
       " (47.60173, -122.32385),\n",
       " (47.60173, -122.32417),\n",
       " (47.60173, -122.32433),\n",
       " (47.60173, -122.3246),\n",
       " (47.60173, -122.32484),\n",
       " (47.60173, -122.32519),\n",
       " (47.60173, -122.32533),\n",
       " (47.60173, -122.32548),\n",
       " (47.60173, -122.32582),\n",
       " (47.60173, -122.32592),\n",
       " (47.60172, -122.32641),\n",
       " (47.60172, -122.32659),\n",
       " (47.60173, -122.32682),\n",
       " (47.60173, -122.32701),\n",
       " (47.60173, -122.32759),\n",
       " (47.60173, -122.32765),\n",
       " (47.60173, -122.32904),\n",
       " (47.60173, -122.32929),\n",
       " (47.60172, -122.32997),\n",
       " (47.60172, -122.33027),\n",
       " (47.60172, -122.33064),\n",
       " (47.60172, -122.331),\n",
       " (47.60172, -122.33137),\n",
       " (47.60172, -122.33199),\n",
       " (47.60173, -122.33277),\n",
       " (47.60173, -122.33288),\n",
       " (47.60174, -122.3335),\n",
       " (47.60175, -122.33374),\n",
       " (47.60175, -122.33417),\n",
       " (47.60175, -122.3349),\n",
       " (47.60176, -122.33549),\n",
       " (47.60177, -122.33563),\n",
       " (47.60177, -122.33575),\n",
       " (47.60177, -122.33592),\n",
       " (47.60177, -122.33595),\n",
       " (47.60177, -122.33605),\n",
       " (47.60176, -122.33623),\n",
       " (47.60201, -122.33646),\n",
       " (47.60224, -122.33667),\n",
       " (47.60231, -122.33674),\n",
       " (47.60248, -122.3369),\n",
       " (47.60307, -122.33745),\n",
       " (47.60319, -122.33755),\n",
       " (47.60356, -122.3379),\n",
       " (47.60389, -122.33821),\n",
       " (47.60427, -122.33856),\n",
       " (47.60459, -122.33885),\n",
       " (47.60486, -122.3391),\n",
       " (47.60518, -122.33939),\n",
       " (47.60527, -122.33948),\n",
       " (47.60569, -122.33986),\n",
       " (47.60596, -122.34011),\n",
       " (47.60612, -122.34026),\n",
       " (47.60699, -122.34105),\n",
       " (47.60734, -122.34139),\n",
       " (47.60746, -122.34153),\n",
       " (47.60755, -122.34163),\n",
       " (47.60761, -122.34173),\n",
       " (47.60764, -122.34181),\n",
       " (47.60767, -122.34192),\n",
       " (47.60772, -122.34211),\n",
       " (47.60775, -122.34222),\n",
       " (47.60778, -122.34231),\n",
       " (47.60781, -122.34239),\n",
       " (47.60786, -122.3425),\n",
       " (47.60791, -122.34259),\n",
       " (47.60821, -122.3431),\n",
       " (47.60851, -122.34362),\n",
       " (47.60861, -122.3438),\n",
       " (47.6089, -122.34427),\n",
       " (47.60902, -122.34447),\n",
       " (47.60913, -122.34466),\n",
       " (47.60919, -122.34477),\n",
       " (47.60924, -122.34488),\n",
       " (47.6093, -122.34504),\n",
       " (47.60936, -122.34521),\n",
       " (47.60941, -122.34532),\n",
       " (47.60947, -122.34544),\n",
       " (47.60957, -122.34562),\n",
       " (47.60964, -122.34573),\n",
       " (47.6099, -122.34617),\n",
       " (47.60993, -122.34622),\n",
       " (47.60997, -122.3463),\n",
       " (47.61071, -122.34755),\n",
       " (47.61095, -122.34796),\n",
       " (47.61115, -122.3483),\n",
       " (47.61141, -122.34874),\n",
       " (47.61145, -122.34881),\n",
       " (47.6115, -122.34889),\n",
       " (47.61154, -122.34896),\n",
       " (47.612, -122.34974),\n",
       " (47.61226, -122.35019),\n",
       " (47.61244, -122.35052),\n",
       " (47.61272, -122.35104),\n",
       " (47.61277, -122.35114),\n",
       " (47.61281, -122.35122),\n",
       " (47.61298, -122.35158),\n",
       " (47.61308, -122.35177),\n",
       " (47.61318, -122.35196),\n",
       " (47.61331, -122.3522),\n",
       " (47.6137, -122.35285),\n",
       " (47.61394, -122.35326),\n",
       " (47.61417, -122.35365),\n",
       " (47.61433, -122.35389),\n",
       " (47.61441, -122.35402),\n",
       " (47.61443, -122.35405),\n",
       " (47.61448, -122.35415),\n",
       " (47.61451, -122.3542),\n",
       " (47.61474, -122.35459),\n",
       " (47.61476, -122.35463),\n",
       " (47.61485, -122.35475),\n",
       " (47.61491, -122.3548),\n",
       " (47.61494, -122.35483),\n",
       " (47.61502, -122.35485),\n",
       " (47.61511, -122.35481),\n",
       " (47.61515, -122.35479),\n",
       " (47.61519, -122.35476),\n",
       " (47.61523, -122.35472),\n",
       " (47.61531, -122.35463),\n",
       " (47.6154, -122.35451),\n",
       " (47.61543, -122.35448),\n",
       " (47.61547, -122.35443),\n",
       " (47.6156, -122.35427),\n",
       " (47.61581, -122.35399),\n",
       " (47.61595, -122.35381),\n",
       " (47.61598, -122.35377),\n",
       " (47.6162, -122.3535),\n",
       " (47.61627, -122.35341),\n",
       " (47.61635, -122.35354),\n",
       " (47.61702, -122.35471),\n",
       " (47.6176, -122.35568),\n",
       " (47.61781, -122.35604),\n",
       " (47.61828, -122.35683),\n",
       " (47.61844, -122.35713),\n",
       " (47.61859, -122.35742),\n",
       " (47.61889, -122.35791),\n",
       " (47.61908, -122.35821),\n",
       " (47.61916, -122.35811),\n",
       " (47.61923, -122.35808),\n",
       " (47.61976, -122.35807),\n",
       " (47.61976, -122.35801),\n",
       " (47.61976, -122.35749),\n",
       " (47.61976, -122.35675),\n",
       " (47.619246, -122.356759)]"
      ]
     },
     "execution_count": 89,
     "metadata": {},
     "output_type": "execute_result"
    }
   ],
   "source": [
    "polyline = experiment['car_response']['routes'][0]['sections'][0]['polyline']\n",
    "coords = list(iter_decode(polyline))\n",
    "coords"
   ]
  },
  {
   "cell_type": "code",
   "execution_count": 87,
   "metadata": {},
   "outputs": [
    {
     "name": "stderr",
     "output_type": "stream",
     "text": [
      "/Users/patrick/.virtualenvs/jupyter/lib/python3.7/site-packages/ipykernel/ipkernel.py:287: DeprecationWarning: `should_run_async` will not call `transform_cell` automatically in the future. Please pass the result to `transformed_cell` argument and any exception that happen during thetransform in `preprocessing_exc_tuple` in IPython 7.17 and above.\n",
      "  and should_run_async(code)\n"
     ]
    }
   ],
   "source": [
    "from here_polyline.flexpolyline.decoding import iter_decode"
   ]
  },
  {
   "cell_type": "code",
   "execution_count": null,
   "metadata": {},
   "outputs": [],
   "source": []
  }
 ],
 "metadata": {
  "kernelspec": {
   "display_name": "Python 3",
   "language": "python",
   "name": "python3"
  },
  "language_info": {
   "codemirror_mode": {
    "name": "ipython",
    "version": 3
   },
   "file_extension": ".py",
   "mimetype": "text/x-python",
   "name": "python",
   "nbconvert_exporter": "python",
   "pygments_lexer": "ipython3",
   "version": "3.7.3"
  }
 },
 "nbformat": 4,
 "nbformat_minor": 4
}
