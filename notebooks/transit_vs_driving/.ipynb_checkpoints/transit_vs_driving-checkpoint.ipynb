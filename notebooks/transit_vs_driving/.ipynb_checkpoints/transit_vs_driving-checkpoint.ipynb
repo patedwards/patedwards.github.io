{
 "cells": [
  {
   "cell_type": "markdown",
   "metadata": {},
   "source": [
    "### Step 1: get the data"
   ]
  },
  {
   "cell_type": "markdown",
   "metadata": {},
   "source": [
    "Need to do the following:\n",
    "* find the data source I'll use (Here vs Google Maps vs Mapbox)\n",
    "* generate random points across both cities for trip start and end points\n",
    "* generate the transit and driving trips and store them in a geojson file locally. Each trip needs to contain the start and end points, the path, the start time and end time."
   ]
  },
  {
   "cell_type": "code",
   "execution_count": 2,
   "metadata": {},
   "outputs": [],
   "source": [
    "import os\n",
    "HERE_API_KEY = os.environ[\"HERE_API_KEY\"]"
   ]
  },
  {
   "cell_type": "code",
   "execution_count": 3,
   "metadata": {},
   "outputs": [],
   "source": [
    "import requests"
   ]
  },
  {
   "cell_type": "code",
   "execution_count": 5,
   "metadata": {},
   "outputs": [],
   "source": [
    "response = requests.get(f\"https://transit.router.hereapi.com/v8/routes?apiKey={HERE_API_KEY}&origin=41.79457,12.25473&destination=41.90096,12.50243\")"
   ]
  },
  {
   "cell_type": "code",
   "execution_count": 8,
   "metadata": {},
   "outputs": [
    {
     "data": {
      "text/plain": [
       "b'{\"routes\":[{\"id\":\"R007993-C0\",\"sections\":[{\"id\":\"R007993-C0-S0\",\"type\":\"pedestrian\",\"departure\":{\"time\":\"2020-10-30T18:32:00+01:00\",\"place\":{\"type\":\"place\",\"location\":{\"lat\":41.79457,\"lng\":12.25473}}},\"arrival\":{\"time\":\"2020-10-30T18:38:00+01:00\",\"place\":{\"name\":\"Fiumicino Aeroporto\",\"type\":\"station\",\"location\":{\"lat\":41.793466,\"lng\":12.251997},\"id\":\"415713377\"}},\"transport\":{\"mode\":\"pedestrian\"}},{\"id\":\"R007993-C0-S1\",\"type\":\"transit\",\"departure\":{\"time\":\"2020-10-30T18:38:00+01:00\",\"place\":{\"name\":\"Fiumicino Aeroporto\",\"type\":\"station\",\"location\":{\"lat\":41.793466,\"lng\":12.251997},\"id\":\"415713377\"}},\"arrival\":{\"time\":\"2020-10-30T19:10:00+01:00\",\"place\":{\"name\":\"Roma Termini\",\"type\":\"station\",\"location\":{\"lat\":41.90054,\"lng\":12.502168},\"id\":\"415712984\"}},\"transport\":{\"mode\":\"regionalTrain\",\"name\":\"LE\",\"category\":\"Regional Train\",\"color\":\"#4C8DC1\",\"textColor\":\"#000000\",\"headsign\":\"Roma Termini\"},\"agency\":{\"id\":\"aDmtre00\",\"name\":\"Trenitalia\",\"website\":\"http://www.trenitalia.com/\"},\"attributions\":[{\"id\":\"R007993-C0-S1-link-0\",\"href\":\"http://creativecommons.org/licenses/by/3.0/it/\",\"text\":\"Some line names used in this product or service were edited to align with official transportation maps.\",\"type\":\"disclaimer\"}]},{\"id\":\"R007993-C0-S2\",\"type\":\"pedestrian\",\"departure\":{\"time\":\"2020-10-30T19:10:00+01:00\",\"place\":{\"name\":\"Roma Termini\",\"type\":\"station\",\"location\":{\"lat\":41.90054,\"lng\":12.502168},\"id\":\"415712984\"}},\"arrival\":{\"time\":\"2020-10-30T19:11:00+01:00\",\"place\":{\"type\":\"place\",\"location\":{\"lat\":41.90096,\"lng\":12.50243}}},\"transport\":{\"mode\":\"pedestrian\"}}]}]}\\n'"
      ]
     },
     "execution_count": 8,
     "metadata": {},
     "output_type": "execute_result"
    }
   ],
   "source": [
    "response.content"
   ]
  },
  {
   "cell_type": "code",
   "execution_count": 15,
   "metadata": {},
   "outputs": [
    {
     "name": "stderr",
     "output_type": "stream",
     "text": [
      "/Users/patrick/.virtualenvs/jupyter/lib/python3.7/site-packages/ipykernel/ipkernel.py:287: DeprecationWarning: `should_run_async` will not call `transform_cell` automatically in the future. Please pass the result to `transformed_cell` argument and any exception that happen during thetransform in `preprocessing_exc_tuple` in IPython 7.17 and above.\n",
      "  and should_run_async(code)\n"
     ]
    }
   ],
   "source": [
    "import osmnx as ox\n",
    "import numpy as np"
   ]
  },
  {
   "cell_type": "code",
   "execution_count": 14,
   "metadata": {},
   "outputs": [],
   "source": [
    "gdf_seattle_buildings = ox.geometries_from_place('Seattle, Washington, USA', {'building': True})"
   ]
  },
  {
   "cell_type": "code",
   "execution_count": 17,
   "metadata": {},
   "outputs": [
    {
     "name": "stderr",
     "output_type": "stream",
     "text": [
      "/Users/patrick/.virtualenvs/jupyter/lib/python3.7/site-packages/ipykernel/ipkernel.py:287: DeprecationWarning: `should_run_async` will not call `transform_cell` automatically in the future. Please pass the result to `transformed_cell` argument and any exception that happen during thetransform in `preprocessing_exc_tuple` in IPython 7.17 and above.\n",
      "  and should_run_async(code)\n"
     ]
    }
   ],
   "source": [
    "gdf_buildings = gdf_seattle_buildings\n",
    "\n",
    "N_points = len(gdf_seattle_buildings)"
   ]
  },
  {
   "cell_type": "code",
   "execution_count": null,
   "metadata": {},
   "outputs": [],
   "source": [
    "gdf_vancouver_buildings = ox.geometries_from_place('Vancouver, British Columbia, Canada', {'building': True})"
   ]
  },
  {
   "cell_type": "code",
   "execution_count": null,
   "metadata": {},
   "outputs": [],
   "source": [
    "def transit_trip():\n",
    "    41.79457,12.25473\n",
    "    response = requests.get(f\"https://transit.router.hereapi.com/v8/routes?apiKey={HERE_API_KEY}&origin={origin_lat_lon}&destination=41.90096,12.50243\")"
   ]
  },
  {
   "cell_type": "code",
   "execution_count": 21,
   "metadata": {},
   "outputs": [],
   "source": [
    "pair = np.random.randint(0, N_points, 2)"
   ]
  },
  {
   "cell_type": "code",
   "execution_count": null,
   "metadata": {},
   "outputs": [],
   "source": []
  }
 ],
 "metadata": {
  "kernelspec": {
   "display_name": "Python 3",
   "language": "python",
   "name": "python3"
  },
  "language_info": {
   "codemirror_mode": {
    "name": "ipython",
    "version": 3
   },
   "file_extension": ".py",
   "mimetype": "text/x-python",
   "name": "python",
   "nbconvert_exporter": "python",
   "pygments_lexer": "ipython3",
   "version": "3.7.3"
  }
 },
 "nbformat": 4,
 "nbformat_minor": 4
}
